{
 "cells": [
  {
   "cell_type": "markdown",
   "metadata": {},
   "source": [
    "# Importing Data Using Pandas - Lab"
   ]
  },
  {
   "cell_type": "markdown",
   "metadata": {},
   "source": [
    "## Introduction\n",
    "\n",
    "In this lab, you'll get some practice with loading files with summary or metadata, and if you find that easy, the optional \"level up\" content covers loading data from a currupted csv file!"
   ]
  },
  {
   "cell_type": "markdown",
   "metadata": {},
   "source": [
    "## Objectives\n",
    "You will be able to:\n",
    "* Import data from csv files and Excel files\n",
    "* Understand and explain key arguments for imports\n",
    "* Save information to csv and Excel files\n",
    "* Access data within a Pandas DataFrame (print() and .head())"
   ]
  },
  {
   "cell_type": "markdown",
   "metadata": {},
   "source": [
    "#  Loading Files with Summary or Meta Data\n",
    "\n",
    "Load either of the files Zipcode_Demos.csv or Zipcode_Demos.xlsx. What's going on with this dataset? Clean it up into a useable format and describe the nuances of how the data is currently formatted.\n",
    "\n",
    "All data files are stored in a folder titled 'Data'."
   ]
  },
  {
   "cell_type": "code",
   "execution_count": 13,
   "metadata": {},
   "outputs": [
    {
     "data": {
      "text/plain": [
       "0              PERCENT MALE\n",
       "Unnamed: 1            0.396\n",
       "Unnamed: 2              NaN\n",
       "Unnamed: 3              NaN\n",
       "Unnamed: 4              NaN\n",
       "Unnamed: 5              NaN\n",
       "Unnamed: 6              NaN\n",
       "Unnamed: 7              NaN\n",
       "Unnamed: 8              NaN\n",
       "Unnamed: 9              NaN\n",
       "Unnamed: 10             NaN\n",
       "Unnamed: 11             NaN\n",
       "Unnamed: 12             NaN\n",
       "Unnamed: 13             NaN\n",
       "Unnamed: 14             NaN\n",
       "Unnamed: 15             NaN\n",
       "Unnamed: 16             NaN\n",
       "Unnamed: 17             NaN\n",
       "Unnamed: 18             NaN\n",
       "Unnamed: 19             NaN\n",
       "Unnamed: 20             NaN\n",
       "Unnamed: 21             NaN\n",
       "Unnamed: 22             NaN\n",
       "Unnamed: 23             NaN\n",
       "Unnamed: 24             NaN\n",
       "Unnamed: 25             NaN\n",
       "Unnamed: 26             NaN\n",
       "Unnamed: 27             NaN\n",
       "Unnamed: 28             NaN\n",
       "Unnamed: 29             NaN\n",
       "Unnamed: 30             NaN\n",
       "Unnamed: 31             NaN\n",
       "Unnamed: 32             NaN\n",
       "Unnamed: 33             NaN\n",
       "Unnamed: 34             NaN\n",
       "Unnamed: 35             NaN\n",
       "Unnamed: 36             NaN\n",
       "Unnamed: 37             NaN\n",
       "Unnamed: 38             NaN\n",
       "Unnamed: 39             NaN\n",
       "Unnamed: 40             NaN\n",
       "Unnamed: 41             NaN\n",
       "Unnamed: 42             NaN\n",
       "Unnamed: 43             NaN\n",
       "Unnamed: 44             NaN\n",
       "Unnamed: 45             NaN\n",
       "Name: 7, dtype: object"
      ]
     },
     "execution_count": 13,
     "metadata": {},
     "output_type": "execute_result"
    }
   ],
   "source": [
    "import pandas as pd\n",
    "import numpy as np\n",
    "workbook = pd.ExcelFile('./Data/Zipcode_Demos.xlsx')\n",
    "df = workbook.parse(sheet_name = 0)\n",
    "df.head()\n",
    "\n",
    "x = np.array(df)\n",
    "\n",
    "df.iloc[7]"
   ]
  },
  {
   "cell_type": "code",
   "execution_count": 7,
   "metadata": {},
   "outputs": [
    {
     "name": "stdout",
     "output_type": "stream",
     "text": [
      "On row 2 there are 44 null values. The previous row had 45 null values.\n",
      "On row 47 there are 0 null values. The previous row had 44 null values.\n"
     ]
    }
   ],
   "source": [
    "prev_count = 10**3\n",
    "for row in df.index:\n",
    "    count = 0\n",
    "    for entry in df.iloc[row].isnull():\n",
    "        if entry:\n",
    "            count += 1\n",
    "    if count != prev_count and row!=0:\n",
    "        print('On row {} there are {} null values. The previous row had {} null values.'.format(row, count, prev_count))\n",
    "    prev_count = count"
   ]
  },
  {
   "cell_type": "markdown",
   "metadata": {},
   "source": [
    "## Level Up (Optional)\n",
    "\n",
    "### Loading Corrupt CSV files\n",
    "\n",
    "Occassionally, you encountered some really ill formatted data. One example of this can be data that has strings containing commas in a csv file. Under the standard protocol, when this occurs, one is suppossed to use quotes to differentiate between the commas denoting fields and commas within those fields themselves. For example, we could have a table like this:  \n",
    "\n",
    "ReviewerID,Rating,N_reviews,Review,VenueID\n",
    "123456,4,137,This restuarant was pretty good, we had a great time.,98765\n",
    "\n",
    "Which should be saved like this if it were a csv (to avoid confusion with the commas in the Review text):\n",
    "\"ReviewerID\",\"Rating\",\"N_reviews\",\"Review\",\"VenueID\"\n",
    "\"123456\",\"4\",\"137\",\"This restuarant was pretty good, we had a great time.\",\"98765\""
   ]
  },
  {
   "cell_type": "markdown",
   "metadata": {},
   "source": [
    "Attempt to import the corrupt file, or at least a small preview of it. It is appropriately titled Yelp_Reviews_corrupt.csv. Investigate some of the intricacies of skipping rows to then pass over this error and comment on what you think is going on."
   ]
  },
  {
   "cell_type": "code",
   "execution_count": null,
   "metadata": {
    "collapsed": true
   },
   "outputs": [],
   "source": [
    "#Hint: here's a useful programming pattern to use.\n",
    "try:\n",
    "    #do something\n",
    "except Exception as e:\n",
    "    #handle your exception e"
   ]
  },
  {
   "cell_type": "code",
   "execution_count": null,
   "metadata": {
    "collapsed": true
   },
   "outputs": [],
   "source": [
    "#Your code here"
   ]
  }
 ],
 "metadata": {
  "kernelspec": {
   "display_name": "Python 3",
   "language": "python",
   "name": "python3"
  },
  "language_info": {
   "codemirror_mode": {
    "name": "ipython",
    "version": 3
   },
   "file_extension": ".py",
   "mimetype": "text/x-python",
   "name": "python",
   "nbconvert_exporter": "python",
   "pygments_lexer": "ipython3",
   "version": "3.6.6"
  }
 },
 "nbformat": 4,
 "nbformat_minor": 2
}
